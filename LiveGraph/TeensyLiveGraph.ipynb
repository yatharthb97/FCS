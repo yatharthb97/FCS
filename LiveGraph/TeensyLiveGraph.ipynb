{
 "cells": [
  {
   "cell_type": "code",
   "execution_count": 1,
   "metadata": {},
   "outputs": [
    {
     "name": "stdout",
     "output_type": "stream",
     "text": [
      "Import Complete\n"
     ]
    }
   ],
   "source": [
    "#1. Import Block ########################################################\n",
    "\n",
    "#Serial Lib Check -------------------------------------------------------\n",
    "try:\n",
    "  import serial.tools.list_ports as port_list\n",
    "except ImportError:\n",
    "  print (\"Import Error - serial\")\n",
    "  import subprocess\n",
    "  import sys\n",
    "\n",
    "  subprocess.check_call([sys.executable, \"-m\", \"pip\", \"install\", \"pyserial\"])\n",
    "  import serial.tools.list_ports as port_list\n",
    "\n",
    "from serial import Serial\n",
    "#--------------------------------------------------------------------------\n",
    "#\n",
    "#\n",
    "#matplotlib Lib Check -------------------------------------------------------\n",
    "try:\n",
    "  import matplotlib.pyplot as plt\n",
    "except ImportError:\n",
    "  print (\"Import Error - matplotlib\")\n",
    "  import subprocess\n",
    "  import sys\n",
    "\n",
    "  subprocess.check_call([sys.executable, \"-m\", \"pip\", \"install\", \"matplotlib\"])\n",
    "  import matplotlib.pyplot as plt\n",
    "#--------------------------------------------------------------------------\n",
    "\n",
    "#\n",
    "#\n",
    "#import animation ---------------------------------------------------------\n",
    "from matplotlib import animation, rc\n",
    "#--------------------------------------------------------------------------\n",
    "#\n",
    "# Inlining \n",
    "%matplotlib notebook\n",
    "print(\"Import Complete\")\n",
    "\n",
    "\n",
    "##############################################################################\n"
   ]
  },
  {
   "cell_type": "code",
   "execution_count": 2,
   "metadata": {},
   "outputs": [
    {
     "name": "stdout",
     "output_type": "stream",
     "text": [
      "Size of xarray:  64\n"
     ]
    }
   ],
   "source": [
    "#2. Global Variables ###################################\n",
    "D_Sep = ','\n",
    "COMdefault = \"COM8\" #do - OS Specific Port default\n",
    "graphtitle = 'Autocorrelation - Update '\n",
    "BaudRate = 19200 #Set Accordingly\n",
    "session_name = \"Test\"\n",
    "channel_width = 64\n",
    "\n",
    "serialarray = [0]*channel_width\n",
    "frameno = 0\n",
    "\n",
    "xarray = []\n",
    "for i in range(channel_width):\n",
    "    xarray.append(i)\n",
    "print(\"Size of xarray: \", len(xarray))\n",
    "########################################################"
   ]
  },
  {
   "cell_type": "code",
   "execution_count": 3,
   "metadata": {},
   "outputs": [],
   "source": [
    "#3. Logging Functions for file generation ########\n",
    "\n",
    "#Setup Logging Resources\n",
    "def LogInit(): \n",
    "\t#Empty\n",
    "    pass\n",
    "# End of LogInit()\n",
    "\n",
    " #Logging function\n",
    "def Log(stringdata):\n",
    "    pass\n",
    "    #Empty\n",
    "# End of Log()\n",
    "################################################\n",
    "\n"
   ]
  },
  {
   "cell_type": "code",
   "execution_count": 4,
   "metadata": {},
   "outputs": [
    {
     "name": "stdout",
     "output_type": "stream",
     "text": [
      "Listing all available ports:\n",
      "\n",
      "COM5 - Standard Serial over Bluetooth link (COM5) \n",
      "\n",
      "COM6 - Standard Serial over Bluetooth link (COM6) \n",
      "\n",
      "COM8 - USB Serial Device (COM8) \n",
      "\n",
      "COMPort selected:  COM8\n"
     ]
    }
   ],
   "source": [
    "#4. Comm Port Setting #################################\n",
    "\n",
    "#List all available ports on machine\n",
    "ports = list(port_list.comports())\n",
    "print(\"Listing all available ports:\\n\")\n",
    "for i in ports:\n",
    "    print (i, \"\\n\")\n",
    "\n",
    "\n",
    "#take input\n",
    "#print(\"Enter the COM Port: \")\n",
    "\n",
    "COMport = COMdefault\n",
    "print(\"COMPort selected: \", COMport)\n",
    "#print(\"Selected COM port:\", COMport)\n",
    "\n",
    "\n",
    "\n",
    "#Declare the speciic COM Port\n",
    "s_port = Serial(port = COMport, timeout = None, baudrate = BaudRate, xonxoff=False, rtscts=False, dsrdtr=False) \n",
    "\n",
    "##############################################################################################################"
   ]
  },
  {
   "cell_type": "code",
   "execution_count": 5,
   "metadata": {},
   "outputs": [],
   "source": [
    "#5. SerialRead Function ########################\n",
    "\n",
    "def SerialRead():       \n",
    "    #Read from the s_port\n",
    "    if(s_port.in_waiting > 0):\n",
    "        serialdata = s_port.readline() #Read in a single line\n",
    "        serialstring = serialdata.decode('ascii') #Decode to ASCII\n",
    "        Log(serialstring) #Store the received value\n",
    "        serialstring = serialstring.rstrip('\\r\\n,') #Remove endline character & Comma\n",
    "        \n",
    "        \n",
    "        global serialarray\n",
    "        #print(serialarray)\n",
    "        serialarray_str = serialstring.split(D_Sep) #Split into the array\n",
    "        serialarray = [int(numeric_string) for numeric_string in serialarray_str]\n",
    "        #print(serialarray)\n",
    "#End of SerialRead()\n",
    "\n",
    "#########################################################"
   ]
  },
  {
   "cell_type": "code",
   "execution_count": 6,
   "metadata": {},
   "outputs": [
    {
     "data": {
      "text/plain": [
       "Text(0, 0.5, 'Time (MicroSeconds)')"
      ]
     },
     "execution_count": 6,
     "metadata": {},
     "output_type": "execute_result"
    },
    {
     "data": {
      "image/png": "[encoded data removed]",
      "text/plain": [
       "<Figure size 432x288 with 1 Axes>"
      ]
     },
     "metadata": {
      "needs_background": "light"
     },
     "output_type": "display_data"
    }
   ],
   "source": [
    "#6.1 Setup Log File\n",
    "LogInit()\n",
    "\n",
    "#6.2. Graph Initialization ####################################\n",
    "\n",
    "#Produce Figure Object\n",
    "fig = plt.figure()\n",
    "\n",
    "#Creating a subplot \n",
    "ax1 = fig.add_subplot(1,1,1)\n",
    "\n",
    "#Labels\n",
    "plt.xlabel('G (Tau)')\n",
    "plt.ylabel('Time (MicroSeconds)')\n",
    "###########################################################"
   ]
  },
  {
   "cell_type": "code",
   "execution_count": 7,
   "metadata": {},
   "outputs": [],
   "source": [
    "#7. Graph Update Function ###############################\n",
    "def graph_update(i):\n",
    "\n",
    "    SerialRead()\n",
    "    \n",
    "    #Clear Graph\n",
    "    ax1.clear()\n",
    "\n",
    "    #Draw the new graph\n",
    "    global xarray, serialarray\n",
    "    ax1.plot(xarray, serialarray)\n",
    "\n",
    "    #Update the title\n",
    "    #plt.title(graphtitle.join(str(i)))\n",
    "    #plt.show()\n",
    "    \n",
    "# End of graph_update()\n",
    "#########################################################"
   ]
  },
  {
   "cell_type": "code",
   "execution_count": 8,
   "metadata": {
    "scrolled": true
   },
   "outputs": [
    {
     "name": "stdout",
     "output_type": "stream",
     "text": [
      "Read begins...\n",
      "Read ends...\n"
     ]
    },
    {
     "data": {
      "text/plain": [
       "<Figure size 432x288 with 0 Axes>"
      ]
     },
     "metadata": {},
     "output_type": "display_data"
    }
   ],
   "source": [
    "#8. Animation Section\n",
    "\n",
    "#Open Port\n",
    "if(s_port.isOpen() == False):\n",
    "    s_port.open()\n",
    "\n",
    "print(\"Read begins...\")\n",
    "#--\n",
    "ani = animation.FuncAnimation(fig, graph_update, frames = 200, interval=100, blit = False, save_count=200) \n",
    "        #Wait for 100 ms before updating & Will only save 200 frames\n",
    "plt.show()\n",
    "#---\n",
    "print(\"Read ends...\")\n",
    "\n",
    "\n",
    "#Save the last snapshot\n",
    "plt.savefig(session_name.join('.png'), bbox_inches='tight')\n",
    "#pylab leaves a generous, often undesirable, whitespace around the image → 'tight'\n",
    "\n",
    "#Save the animation\n",
    "#ani.save(session_name.join('.mp4'),writer=writer)\n",
    "\n",
    "\n",
    "#Close port\n",
    "s_port.close()\n",
    "\n",
    "\n",
    "#HTML Video display#####################################\n",
    "# equivalent to rcParams['animation.html'] = 'html5'\n",
    "#from IPython.display import HTML\n",
    "#rc('animation', html='jshtml')\n",
    "#rc\n",
    "#HTML(ani.to_jshtml())\n",
    "#########################################################\n",
    "\n",
    "\n"
   ]
  },
  {
   "cell_type": "code",
   "execution_count": null,
   "metadata": {},
   "outputs": [],
   "source": []
  },
  {
   "cell_type": "code",
   "execution_count": null,
   "metadata": {},
   "outputs": [],
   "source": []
  }
 ],
 "metadata": {
  "kernelspec": {
   "display_name": "Python 3",
   "language": "python",
   "name": "python3"
  },
  "language_info": {
   "codemirror_mode": {
    "name": "ipython",
    "version": 3
   },
   "file_extension": ".py",
   "mimetype": "text/x-python",
   "name": "python",
   "nbconvert_exporter": "python",
   "pygments_lexer": "ipython3",
   "version": "3.7.4"
  }
 },
 "nbformat": 4,
 "nbformat_minor": 2
}
